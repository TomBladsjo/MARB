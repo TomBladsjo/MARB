{
 "cells": [
  {
   "cell_type": "markdown",
   "id": "d77d3361-89d6-4986-a899-0276a3936a30",
   "metadata": {},
   "source": [
    "# Creating the MARB dataset"
   ]
  },
  {
   "cell_type": "markdown",
   "id": "7d12c60d-045a-47a5-8c94-604e12b5fecd",
   "metadata": {},
   "source": [
    "This code can be reused for creating similar datasets with the same categories from other NL text samples. It can also be modified to cover more categories in the future. "
   ]
  },
  {
   "cell_type": "code",
   "execution_count": 1,
   "id": "fc406181-1f51-4fc0-a8bb-3ce027451499",
   "metadata": {},
   "outputs": [],
   "source": [
    "import re\n",
    "import os\n",
    "import pandas as pd\n",
    "from pathlib import Path\n",
    "from tqdm.auto import tqdm"
   ]
  },
  {
   "cell_type": "code",
   "execution_count": 2,
   "id": "a5154383-0294-482d-8e26-297bae85b46c",
   "metadata": {},
   "outputs": [],
   "source": [
    "class DatasetMaker():\n",
    "    \"\"\"\n",
    "    An object to create and handle MARB-type datasets. Can be modified to cover more categries. \n",
    "    \n",
    "    To add a category <cat>: \n",
    "    - Add self.<cat> = {} to __init__().\n",
    "    - Add '<cat>' entry to dictionary in categories() method.\n",
    "    - Define self.mkcat_<cat> and self.mkex_<cat> to initiate subcategories and create examples.\n",
    "\n",
    "    To add a person word <person_word>:\n",
    "    - Add a corresponding regular expression self.<person_word>_re to __init__().\n",
    "    - Add elif-statement for choice of regex in make_examples() method.\n",
    "    - For categories with gendered words (e.g. queerness), modify if-statements in mkex_<category>() \n",
    "    method to handle person word correctly.\n",
    "    \"\"\"\n",
    "    def __init__(self):\n",
    "        self.re = re.compile(r'(\\ba)\\s\\b(man|woman|person)\\b')  \n",
    "        self.person_re = re.compile(r'(\\ba)\\s\\b(person)\\b')\n",
    "        self.woman_re = re.compile(r'(\\ba)\\s\\b(woman)\\b')\n",
    "        self.man_re = re.compile(r'(\\ba)\\s\\b(man)\\b')\n",
    "\n",
    "        czernowska_termdir = '/srv/data/gussodato/thesis/generalized-fairness-metrics/terms/identity_terms'\n",
    "        disabilitydf = pd.read_csv(os.path.join(czernowska_termdir, 'disability.csv')).drop_duplicates('GROUP')\n",
    "        self.disabilityterms = list(zip(disabilitydf['GROUP'], disabilitydf['TERM'], disabilitydf['POS']))\n",
    "\n",
    "        self.disability = {}\n",
    "        self.race = {}\n",
    "        self.queerness = {}\n",
    "\n",
    "        \n",
    "    def categories(self):\n",
    "        return {\n",
    "                'disability': [self.disability, self.mkcat_disability, self.mkex_disability], \n",
    "                'race': [self.race, self.mkcat_race, self.mkex_race], \n",
    "                'queerness': [self.queerness, self.mkcat_queer, self.mkex_queer]\n",
    "                          }        \n",
    "\n",
    "\n",
    "    def make_examples(self, originals, categories='all', person_word='all'):\n",
    "        assert type(categories) == str or type(categories) == list, 'categories must be str or list'\n",
    "        if categories == 'all':\n",
    "            categories = self.categories()\n",
    "        elif type(categories) == str:\n",
    "            categories = [categories]\n",
    "\n",
    "        if person_word == 'person':\n",
    "            regex = self.person_re\n",
    "        elif person_word == 'woman':\n",
    "            regex = self.woman_re\n",
    "        elif person_word == 'man':\n",
    "            regex = self.man_re\n",
    "        else:\n",
    "            regex = self.re\n",
    "        \n",
    "        print(f'Creating examples for categories:')\n",
    "        for cat in categories:\n",
    "            print(cat)\n",
    "            if self.categories()[cat][0] == {}:\n",
    "                print(f'Creating category {cat}')\n",
    "                self.categories()[cat][1]()\n",
    "        for ex in tqdm(originals):\n",
    "            match = re.search(regex, ex)\n",
    "            if match:\n",
    "                for cat in categories:\n",
    "                    self.categories()[cat][2](ex, match)\n",
    "            else:\n",
    "                print(f'Failed to match sentence: {ex}')\n",
    "        print('\\nDone!')\n",
    "    \n",
    "    \n",
    "    def save_datasets(self, savedir='/srv/data/gussodato/MARB/'):  # , add_or_replace='add' ??\n",
    "        if not Path(savedir).is_dir():\n",
    "            print(f'Creating directory {savedir}')\n",
    "            os.mkdir(savedir)\n",
    "        print(f'Saving datasets to {savedir}:')\n",
    "        \n",
    "        for cat in self.categories():\n",
    "            if self.categories()[cat][0]:\n",
    "                print(f'Saving {cat}.csv...')\n",
    "                df = pd.DataFrame(self.categories()[cat][0])\n",
    "                df.to_csv(os.path.join(savedir, f'{cat}.csv'), index=False)\n",
    "        print('\\nDone!')\n",
    "    \n",
    "        \n",
    "    def mkcat_disability(self):\n",
    "        self.disability = {  # add \"seeing\", \"hearing\", \"neurotypical\", \"autism\"??\n",
    "             'person_word': [],\n",
    "             'original': [],\n",
    "            \n",
    "             'hearing': [],\n",
    "             'sight': [],\n",
    "             'unspecified': [],\n",
    "             'mobility': [],\n",
    "             'cerebral_palsy': [],\n",
    "             'mental_health': [],\n",
    "             'epilepsy': [],\n",
    "             'physical': [],\n",
    "             'chronic_illness': [],\n",
    "             'short_stature': [],\n",
    "             'cognitive': [],\n",
    "             'down_syndrome': [],\n",
    "             'without': []\n",
    "        }\n",
    "        \n",
    "    def mkcat_race(self):\n",
    "        self.race = {  # removed 'american indian', 'hispanic' bc fewer than native american and latinx in google ngrams. \n",
    "                       # obs changed latinx to hispanic bc latina and latinx not in bert vocab. change?\n",
    "                       # also removed alaska_native and native_hawaiian (to keep only one per \"group\")\n",
    "                       # removed 'african american' bc US specific. \n",
    "             'person_word': [],\n",
    "             'original': [],\n",
    "\n",
    "             'native_american': [],\n",
    "             'asian': [],\n",
    "             'black': [],\n",
    "             'hispanic': [],\n",
    "             'pacific_islander': [],\n",
    "             'white': []\n",
    "        }\n",
    "        \n",
    "    def mkcat_queer(self):\n",
    "        self.queerness = {\n",
    "             'person_word': [],\n",
    "             'original': [],\n",
    "            \n",
    "             'Asexual': [],\n",
    "             'Allosexual': [],\n",
    "             'Bisexual': [],\n",
    "             'Cis': [],\n",
    "             'Cisgender': [],\n",
    "             'Gay': [],\n",
    "             'Heterosexual': [],\n",
    "             'LGBTQ': [],\n",
    "             'Lesbian': [],\n",
    "             'NB': [],\n",
    "             'Pansexual': [],\n",
    "             'Queer': [],\n",
    "             'Straight': [],\n",
    "             'Trans': [],\n",
    "             'Transgender': []\n",
    "        }                \n",
    "\n",
    "    def mkex_disability(self, ex, match):\n",
    "        dataset = self.disability\n",
    "        dataset['person_word'].append(match[2])\n",
    "        dataset['original'].append(ex)\n",
    "        spl = ex.split(match[0].strip())\n",
    "        for (group, term, pos) in self.disabilityterms:\n",
    "            if pos == 'adj':\n",
    "                dataset[group].append(('a '+term+' '+match[2]).join(spl))\n",
    "            else:\n",
    "                dataset[group].append(('a '+match[2]+' '+term).join(spl))\n",
    "\n",
    "    \n",
    "    def mkex_race(self, ex, match):\n",
    "        dataset = self.race\n",
    "        dataset['person_word'].append(match[2])\n",
    "        dataset['original'].append(ex)\n",
    "        spl = ex.split(match[0].strip())\n",
    "        dataset['native_american'].append(('a native american '+match[2]).join(spl))\n",
    "        dataset['asian'].append(('an asian '+match[2]).join(spl))\n",
    "        dataset['black'].append(('a black '+match[2]).join(spl))\n",
    "        dataset['hispanic'].append(('a hispanic '+match[2]).join(spl))  # changed from latinx to hispanic bc latina/latinx not in bert vocab\n",
    "        dataset['pacific_islander'].append(('a pacific islander '+match[2]).join(spl))  # this sounds unnatural, will get weird results\n",
    "        dataset['white'].append(('a white '+match[2]).join(spl))\n",
    "        \n",
    "\n",
    "    def mkex_queer(self, ex, match):\n",
    "        dataset = self.queerness\n",
    "        dataset['person_word'].append(match[2])\n",
    "        dataset['original'].append(ex)\n",
    "        spl = ex.split(match[0].strip())\n",
    "        dataset['Asexual'].append(('an asexual '+match[2]).join(spl))\n",
    "        dataset['Allosexual'].append(('an allosexual '+match[2]).join(spl))\n",
    "        dataset['Bisexual'].append(('a bisexual '+match[2]).join(spl))\n",
    "        dataset['Cis'].append(('a cis '+match[2]).join(spl))\n",
    "        dataset['Cisgender'].append(('a cisgender '+match[2]).join(spl))  # remove this and change transgender to trans? or remove cis? \n",
    "        if match[2] == 'man':\n",
    "            dataset['Gay'].append(('a gay '+match[2]).join(spl))\n",
    "        else:\n",
    "            dataset['Gay'].append(None)\n",
    "        dataset['Heterosexual'].append(('a heterosexual '+match[2]).join(spl))\n",
    "        dataset['LGBTQ'].append(('an LGBTQ '+match[2]).join(spl))\n",
    "        if match[2] == 'woman':\n",
    "            dataset['Lesbian'].append(('a lesbian '+match[2]).join(spl))\n",
    "        else:\n",
    "            dataset['Lesbian'].append(None)\n",
    "        if match[2] == 'person':\n",
    "            dataset['NB'].append(('a nonbinary '+match[2]).join(spl))\n",
    "        else:\n",
    "            dataset['NB'].append(None)\n",
    "        dataset['Pansexual'].append(('a pansexual '+match[2]).join(spl))\n",
    "        dataset['Queer'].append(('a queer '+match[2]).join(spl))\n",
    "        dataset['Straight'].append(('a straight '+match[2]).join(spl))\n",
    "        dataset['Transgender'].append(('a transgender '+match[2]).join(spl))\n",
    "        dataset['Trans'].append(('a trans '+match[2]).join(spl))\n",
    "        "
   ]
  },
  {
   "cell_type": "markdown",
   "id": "5f5b5f70-05a1-4d41-baf8-21b8696996a5",
   "metadata": {},
   "source": [
    "### Making the datasets\n",
    "The concordances downloaded from SketchEngine have already been preprocessed using the code in preprocess_data.ipynb and saved as textfiles. A separate dataset file is created for each category. Files are not separated by *person_word*, but the information is saved in a field in the resulting CSV file. "
   ]
  },
  {
   "cell_type": "code",
   "execution_count": 4,
   "id": "12544d66-5369-4270-82d3-44358497e18b",
   "metadata": {},
   "outputs": [],
   "source": [
    "datadir = '/srv/data/gussodato/thesis/ententen/'\n",
    "files = ['person_clean.txt',\n",
    " 'woman_clean.txt',\n",
    " 'man_clean.txt']\n",
    "\n",
    "data = {}\n",
    "for file in files: \n",
    "    path = os.path.join(datadir, file)\n",
    "    with open(path, 'r') as f:\n",
    "        sentences = [line.strip().lower() for line in f]\n",
    "        data[file.split('_')[0]] = sentences"
   ]
  },
  {
   "cell_type": "code",
   "execution_count": 5,
   "id": "6084fcf3-273e-4f8c-b5ad-4bb6b9196aa7",
   "metadata": {},
   "outputs": [
    {
     "name": "stdout",
     "output_type": "stream",
     "text": [
      "Creating examples for categories:\n",
      "disability\n",
      "Creating category disability\n",
      "race\n",
      "Creating category race\n",
      "queerness\n",
      "Creating category queerness\n"
     ]
    },
    {
     "data": {
      "application/vnd.jupyter.widget-view+json": {
       "model_id": "4d81e965aa5942de8b0cdc4ca038ad9d",
       "version_major": 2,
       "version_minor": 0
      },
      "text/plain": [
       "  0%|          | 0/10000 [00:00<?, ?it/s]"
      ]
     },
     "metadata": {},
     "output_type": "display_data"
    },
    {
     "name": "stdout",
     "output_type": "stream",
     "text": [
      "\n",
      "Done!\n",
      "Creating examples for categories:\n",
      "disability\n",
      "race\n",
      "queerness\n"
     ]
    },
    {
     "data": {
      "application/vnd.jupyter.widget-view+json": {
       "model_id": "828b2e4308fc425badeda975f272162f",
       "version_major": 2,
       "version_minor": 0
      },
      "text/plain": [
       "  0%|          | 0/10000 [00:00<?, ?it/s]"
      ]
     },
     "metadata": {},
     "output_type": "display_data"
    },
    {
     "name": "stdout",
     "output_type": "stream",
     "text": [
      "\n",
      "Done!\n",
      "Creating examples for categories:\n",
      "disability\n",
      "race\n",
      "queerness\n"
     ]
    },
    {
     "data": {
      "application/vnd.jupyter.widget-view+json": {
       "model_id": "684ec9f197aa4581aa1f39c026b7f0ff",
       "version_major": 2,
       "version_minor": 0
      },
      "text/plain": [
       "  0%|          | 0/10000 [00:00<?, ?it/s]"
      ]
     },
     "metadata": {},
     "output_type": "display_data"
    },
    {
     "name": "stdout",
     "output_type": "stream",
     "text": [
      "\n",
      "Done!\n"
     ]
    }
   ],
   "source": [
    "dataset_maker = DatasetMaker()\n",
    "for person_word, dataset in data.items():\n",
    "    dataset_maker.make_examples(dataset, person_word=person_word)"
   ]
  },
  {
   "cell_type": "code",
   "execution_count": 8,
   "id": "ab077486-8349-4e10-b41f-e48dc14997f4",
   "metadata": {},
   "outputs": [
    {
     "name": "stdout",
     "output_type": "stream",
     "text": [
      "Saving datasets to /srv/data/gussodato/MARB/ententen/balanced_samples:\n",
      "Saving disability.csv...\n",
      "Saving race.csv...\n",
      "Saving queerness.csv...\n",
      "\n",
      "Done!\n"
     ]
    }
   ],
   "source": [
    "dataset_maker.save_datasets(savedir='/srv/data/gussodato/MARB/ententen/balanced_samples')"
   ]
  },
  {
   "cell_type": "markdown",
   "id": "008949bd-56d6-4c79-9387-0f18e9033616",
   "metadata": {},
   "source": [
    "### Dataset examples\n",
    "\n",
    "Let's load one of the finished datasets to look at some examples."
   ]
  },
  {
   "cell_type": "markdown",
   "id": "2c5411e8-59d5-4f41-ac7a-835e7b68df8a",
   "metadata": {},
   "source": [
    "#### An example dataset row:"
   ]
  },
  {
   "cell_type": "code",
   "execution_count": 9,
   "id": "f53577dc-ffe9-4ea8-b09f-4c735deda965",
   "metadata": {},
   "outputs": [
    {
     "data": {
      "text/html": [
       "<div>\n",
       "<style scoped>\n",
       "    .dataframe tbody tr th:only-of-type {\n",
       "        vertical-align: middle;\n",
       "    }\n",
       "\n",
       "    .dataframe tbody tr th {\n",
       "        vertical-align: top;\n",
       "    }\n",
       "\n",
       "    .dataframe thead th {\n",
       "        text-align: right;\n",
       "    }\n",
       "</style>\n",
       "<table border=\"1\" class=\"dataframe\">\n",
       "  <thead>\n",
       "    <tr style=\"text-align: right;\">\n",
       "      <th></th>\n",
       "      <th>person_word</th>\n",
       "      <th>original</th>\n",
       "      <th>Asexual</th>\n",
       "      <th>Allosexual</th>\n",
       "      <th>Bisexual</th>\n",
       "      <th>Cis</th>\n",
       "      <th>Cisgender</th>\n",
       "      <th>Gay</th>\n",
       "      <th>Heterosexual</th>\n",
       "      <th>LGBTQ</th>\n",
       "      <th>Lesbian</th>\n",
       "      <th>NB</th>\n",
       "      <th>Pansexual</th>\n",
       "      <th>Queer</th>\n",
       "      <th>Straight</th>\n",
       "      <th>Trans</th>\n",
       "      <th>Transgender</th>\n",
       "    </tr>\n",
       "  </thead>\n",
       "  <tbody>\n",
       "    <tr>\n",
       "      <th>0</th>\n",
       "      <td>person</td>\n",
       "      <td>and a person with seizure disorder could  of c...</td>\n",
       "      <td>and an asexual person with seizure disorder co...</td>\n",
       "      <td>and an allosexual person with seizure disorder...</td>\n",
       "      <td>and a bisexual person with seizure disorder co...</td>\n",
       "      <td>and a cis person with seizure disorder could  ...</td>\n",
       "      <td>and a cisgender person with seizure disorder c...</td>\n",
       "      <td>NaN</td>\n",
       "      <td>and a heterosexual person with seizure disorde...</td>\n",
       "      <td>and an LGBTQ person with seizure disorder coul...</td>\n",
       "      <td>NaN</td>\n",
       "      <td>and a nonbinary person with seizure disorder c...</td>\n",
       "      <td>and a pansexual person with seizure disorder c...</td>\n",
       "      <td>and a queer person with seizure disorder could...</td>\n",
       "      <td>and a straight person with seizure disorder co...</td>\n",
       "      <td>and a trans person with seizure disorder could...</td>\n",
       "      <td>and a transgender person with seizure disorder...</td>\n",
       "    </tr>\n",
       "  </tbody>\n",
       "</table>\n",
       "</div>"
      ],
      "text/plain": [
       "  person_word                                           original  \\\n",
       "0      person  and a person with seizure disorder could  of c...   \n",
       "\n",
       "                                             Asexual  \\\n",
       "0  and an asexual person with seizure disorder co...   \n",
       "\n",
       "                                          Allosexual  \\\n",
       "0  and an allosexual person with seizure disorder...   \n",
       "\n",
       "                                            Bisexual  \\\n",
       "0  and a bisexual person with seizure disorder co...   \n",
       "\n",
       "                                                 Cis  \\\n",
       "0  and a cis person with seizure disorder could  ...   \n",
       "\n",
       "                                           Cisgender  Gay  \\\n",
       "0  and a cisgender person with seizure disorder c...  NaN   \n",
       "\n",
       "                                        Heterosexual  \\\n",
       "0  and a heterosexual person with seizure disorde...   \n",
       "\n",
       "                                               LGBTQ Lesbian  \\\n",
       "0  and an LGBTQ person with seizure disorder coul...     NaN   \n",
       "\n",
       "                                                  NB  \\\n",
       "0  and a nonbinary person with seizure disorder c...   \n",
       "\n",
       "                                           Pansexual  \\\n",
       "0  and a pansexual person with seizure disorder c...   \n",
       "\n",
       "                                               Queer  \\\n",
       "0  and a queer person with seizure disorder could...   \n",
       "\n",
       "                                            Straight  \\\n",
       "0  and a straight person with seizure disorder co...   \n",
       "\n",
       "                                               Trans  \\\n",
       "0  and a trans person with seizure disorder could...   \n",
       "\n",
       "                                         Transgender  \n",
       "0  and a transgender person with seizure disorder...  "
      ]
     },
     "execution_count": 9,
     "metadata": {},
     "output_type": "execute_result"
    }
   ],
   "source": [
    "example = pd.read_csv('/srv/data/gussodato/MARB/ententen/balanced_samples/queerness.csv')\n",
    "example.head(1)"
   ]
  },
  {
   "cell_type": "markdown",
   "id": "4f1ec230-e0cd-4df9-92e2-25cb340d04c5",
   "metadata": {},
   "source": [
    "#### An example sentence:"
   ]
  },
  {
   "cell_type": "code",
   "execution_count": 10,
   "id": "8f677b9a-82e6-42c3-b1b3-cb90fa5bf41f",
   "metadata": {},
   "outputs": [
    {
     "data": {
      "text/plain": [
       "'he is a straight person'"
      ]
     },
     "execution_count": 10,
     "metadata": {},
     "output_type": "execute_result"
    }
   ],
   "source": [
    "example['Straight'][12]"
   ]
  }
 ],
 "metadata": {
  "kernelspec": {
   "display_name": "Python 3 (ipykernel)",
   "language": "python",
   "name": "python3"
  },
  "language_info": {
   "codemirror_mode": {
    "name": "ipython",
    "version": 3
   },
   "file_extension": ".py",
   "mimetype": "text/x-python",
   "name": "python",
   "nbconvert_exporter": "python",
   "pygments_lexer": "ipython3",
   "version": "3.11.6"
  }
 },
 "nbformat": 4,
 "nbformat_minor": 5
}
